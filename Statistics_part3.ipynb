{
 "cells": [
  {
   "cell_type": "markdown",
   "id": "5d4bae53",
   "metadata": {},
   "source": [
    "# **TikTok Project - Statistical Analysis (part 3)**"
   ]
  },
  {
   "cell_type": "markdown",
   "id": "3f5459f2",
   "metadata": {},
   "source": [
    "This notebook constitutes the third and final analytical chapter of the TikTok classification project.  \n",
    "After completing *Exploratory Data Analysis – part 1* (initial familiarisation) and *Exploratory Data Analysis – part 2* (in‑depth visual inspection), we now turn to formal statistical testing.\n",
    "\n",
    "**The purpose** of this project is:\n",
    "\n",
    "1. Confirm, with inferential statistics, whether engagement metrics differ between groups of interest.\n",
    "2. Quantify the uncertainty surrounding our estimates.\n",
    "\n",
    "**The goal** is to summarise the practical implications for the TikTok content‑strategy team.\n"
   ]
  },
  {
   "cell_type": "markdown",
   "id": "97c96c9a",
   "metadata": {},
   "source": [
    "To start, we import necessary libraries and load the dataset ..."
   ]
  },
  {
   "cell_type": "code",
   "execution_count": null,
   "metadata": {
    "id": "1Q-GL2UrgWWG"
   },
   "outputs": [],
   "source": [
    "# Import packages for data manipulation\n",
    "import pandas as pd\n",
    "import numpy as np\n",
    "\n",
    "# Import packages for data visualization\n",
    "import matplotlib.pyplot as plt\n",
    "import seaborn as sns\n",
    "\n",
    "# Import package needed for statistical analysis\n",
    "from scipy import stats\n",
    "\n",
    "# Load dataset into dataframe\n",
    "data = pd.read_csv(\"tiktok_dataset.csv\")"
   ]
  },
  {
   "cell_type": "code",
   "execution_count": 15,
   "metadata": {},
   "outputs": [
    {
     "data": {
      "text/html": [
       "<div>\n",
       "<style scoped>\n",
       "    .dataframe tbody tr th:only-of-type {\n",
       "        vertical-align: middle;\n",
       "    }\n",
       "\n",
       "    .dataframe tbody tr th {\n",
       "        vertical-align: top;\n",
       "    }\n",
       "\n",
       "    .dataframe thead th {\n",
       "        text-align: right;\n",
       "    }\n",
       "</style>\n",
       "<table border=\"1\" class=\"dataframe\">\n",
       "  <thead>\n",
       "    <tr style=\"text-align: right;\">\n",
       "      <th></th>\n",
       "      <th>#</th>\n",
       "      <th>claim_status</th>\n",
       "      <th>video_id</th>\n",
       "      <th>video_duration_sec</th>\n",
       "      <th>video_transcription_text</th>\n",
       "      <th>verified_status</th>\n",
       "      <th>author_ban_status</th>\n",
       "      <th>video_view_count</th>\n",
       "      <th>video_like_count</th>\n",
       "      <th>video_share_count</th>\n",
       "      <th>video_download_count</th>\n",
       "      <th>video_comment_count</th>\n",
       "    </tr>\n",
       "  </thead>\n",
       "  <tbody>\n",
       "    <tr>\n",
       "      <th>0</th>\n",
       "      <td>1</td>\n",
       "      <td>claim</td>\n",
       "      <td>7017666017</td>\n",
       "      <td>59</td>\n",
       "      <td>someone shared with me that drone deliveries a...</td>\n",
       "      <td>not verified</td>\n",
       "      <td>under review</td>\n",
       "      <td>343296.0</td>\n",
       "      <td>19425.0</td>\n",
       "      <td>241.0</td>\n",
       "      <td>1.0</td>\n",
       "      <td>0.0</td>\n",
       "    </tr>\n",
       "    <tr>\n",
       "      <th>1</th>\n",
       "      <td>2</td>\n",
       "      <td>claim</td>\n",
       "      <td>4014381136</td>\n",
       "      <td>32</td>\n",
       "      <td>someone shared with me that there are more mic...</td>\n",
       "      <td>not verified</td>\n",
       "      <td>active</td>\n",
       "      <td>140877.0</td>\n",
       "      <td>77355.0</td>\n",
       "      <td>19034.0</td>\n",
       "      <td>1161.0</td>\n",
       "      <td>684.0</td>\n",
       "    </tr>\n",
       "    <tr>\n",
       "      <th>2</th>\n",
       "      <td>3</td>\n",
       "      <td>claim</td>\n",
       "      <td>9859838091</td>\n",
       "      <td>31</td>\n",
       "      <td>someone shared with me that american industria...</td>\n",
       "      <td>not verified</td>\n",
       "      <td>active</td>\n",
       "      <td>902185.0</td>\n",
       "      <td>97690.0</td>\n",
       "      <td>2858.0</td>\n",
       "      <td>833.0</td>\n",
       "      <td>329.0</td>\n",
       "    </tr>\n",
       "    <tr>\n",
       "      <th>3</th>\n",
       "      <td>4</td>\n",
       "      <td>claim</td>\n",
       "      <td>1866847991</td>\n",
       "      <td>25</td>\n",
       "      <td>someone shared with me that the metro of st. p...</td>\n",
       "      <td>not verified</td>\n",
       "      <td>active</td>\n",
       "      <td>437506.0</td>\n",
       "      <td>239954.0</td>\n",
       "      <td>34812.0</td>\n",
       "      <td>1234.0</td>\n",
       "      <td>584.0</td>\n",
       "    </tr>\n",
       "    <tr>\n",
       "      <th>4</th>\n",
       "      <td>5</td>\n",
       "      <td>claim</td>\n",
       "      <td>7105231098</td>\n",
       "      <td>19</td>\n",
       "      <td>someone shared with me that the number of busi...</td>\n",
       "      <td>not verified</td>\n",
       "      <td>active</td>\n",
       "      <td>56167.0</td>\n",
       "      <td>34987.0</td>\n",
       "      <td>4110.0</td>\n",
       "      <td>547.0</td>\n",
       "      <td>152.0</td>\n",
       "    </tr>\n",
       "  </tbody>\n",
       "</table>\n",
       "</div>"
      ],
      "text/plain": [
       "   # claim_status    video_id  video_duration_sec  \\\n",
       "0  1        claim  7017666017                  59   \n",
       "1  2        claim  4014381136                  32   \n",
       "2  3        claim  9859838091                  31   \n",
       "3  4        claim  1866847991                  25   \n",
       "4  5        claim  7105231098                  19   \n",
       "\n",
       "                            video_transcription_text verified_status  \\\n",
       "0  someone shared with me that drone deliveries a...    not verified   \n",
       "1  someone shared with me that there are more mic...    not verified   \n",
       "2  someone shared with me that american industria...    not verified   \n",
       "3  someone shared with me that the metro of st. p...    not verified   \n",
       "4  someone shared with me that the number of busi...    not verified   \n",
       "\n",
       "  author_ban_status  video_view_count  video_like_count  video_share_count  \\\n",
       "0      under review          343296.0           19425.0              241.0   \n",
       "1            active          140877.0           77355.0            19034.0   \n",
       "2            active          902185.0           97690.0             2858.0   \n",
       "3            active          437506.0          239954.0            34812.0   \n",
       "4            active           56167.0           34987.0             4110.0   \n",
       "\n",
       "   video_download_count  video_comment_count  \n",
       "0                   1.0                  0.0  \n",
       "1                1161.0                684.0  \n",
       "2                 833.0                329.0  \n",
       "3                1234.0                584.0  \n",
       "4                 547.0                152.0  "
      ]
     },
     "execution_count": 15,
     "metadata": {},
     "output_type": "execute_result"
    }
   ],
   "source": [
    "# Display first few rows\n",
    "data.head()"
   ]
  },
  {
   "cell_type": "markdown",
   "metadata": {},
   "source": [
    "Let's now drop any non-numeric values if present (to get a clean sample) and do some descriptive statistics. Let's compute the values of the means of the two populations we want to compare statistically (verified vs. not) ..."
   ]
  },
  {
   "cell_type": "code",
   "execution_count": 2,
   "metadata": {
    "colab": {
     "base_uri": "https://localhost:8080/"
    },
    "executionInfo": {
     "elapsed": 48,
     "status": "ok",
     "timestamp": 1684362462533,
     "user": {
      "displayName": "Victoria Lansdown",
      "userId": "02417259790472296449"
     },
     "user_tz": 420
    },
    "id": "BrunHcfa7xnT",
    "outputId": "bce97d39-3983-4625-a4da-162b0f92cdb9"
   },
   "outputs": [
    {
     "data": {
      "text/plain": [
       "#                             0\n",
       "claim_status                298\n",
       "video_id                      0\n",
       "video_duration_sec            0\n",
       "video_transcription_text    298\n",
       "verified_status               0\n",
       "author_ban_status             0\n",
       "video_view_count            298\n",
       "video_like_count            298\n",
       "video_share_count           298\n",
       "video_download_count        298\n",
       "video_comment_count         298\n",
       "dtype: int64"
      ]
     },
     "execution_count": 2,
     "metadata": {},
     "output_type": "execute_result"
    }
   ],
   "source": [
    "# Check for missing values\n",
    "data.isna().sum()"
   ]
  },
  {
   "cell_type": "code",
   "execution_count": 5,
   "metadata": {
    "id": "SHSj1Hma914I"
   },
   "outputs": [],
   "source": [
    "# Drop rows with missing values\n",
    "data = data.dropna(axis=0)"
   ]
  },
  {
   "cell_type": "code",
   "execution_count": 4,
   "metadata": {
    "colab": {
     "base_uri": "https://localhost:8080/"
    },
    "executionInfo": {
     "elapsed": 39,
     "status": "ok",
     "timestamp": 1684362462536,
     "user": {
      "displayName": "Victoria Lansdown",
      "userId": "02417259790472296449"
     },
     "user_tz": 420
    },
    "id": "2LGEWrdVXgI2",
    "outputId": "4596241c-17c4-4c0f-ee9b-09c0c3742ba3"
   },
   "outputs": [
    {
     "name": "stdout",
     "output_type": "stream",
     "text": [
      "Mean video view count by verified status:\n"
     ]
    },
    {
     "data": {
      "text/plain": [
       "verified_status\n",
       "not verified    265663.785339\n",
       "verified         91439.164167\n",
       "Name: video_view_count, dtype: float64"
      ]
     },
     "execution_count": 4,
     "metadata": {},
     "output_type": "execute_result"
    }
   ],
   "source": [
    "# Compute the mean `video_view_count` for each group in `verified_status`\n",
    "print(\"Mean video view count by verified status:\")\n",
    "data.groupby(\"verified_status\")[\"video_view_count\"].mean()"
   ]
  },
  {
   "cell_type": "markdown",
   "id": "b4c9db28",
   "metadata": {},
   "source": [
    "He can now step to inferential statistics and perform hypothesis-testing. \n",
    "We wish to know whether *verified* accounts achieve systematically different **video view counts** from *unverified* ones.\n",
    "\n",
    "* **Null hypothesis ($H_0$)**: the population means are equal.  \n",
    "* **Alternative hypothesis ($H_1$)**: the population means differ.\n",
    "\n",
    "Given two independent samples with thousands of observations, the Central Limit Theorem supports a *Welch two‑sample t‑test* (unequal variances). We set the significance threshold at 5 % ($\\alpha=0.05$). The test will return a **t‑statistic** and a **p‑value**: if the p‑value < 0.05 we reject $H_0$ and conclude that the mean view counts are statistically different across verification status. We will also compute the 95% confidence interval for the mean difference."
   ]
  },
  {
   "cell_type": "code",
   "execution_count": 14,
   "metadata": {
    "colab": {
     "base_uri": "https://localhost:8080/"
    },
    "executionInfo": {
     "elapsed": 36,
     "status": "ok",
     "timestamp": 1684362462538,
     "user": {
      "displayName": "Victoria Lansdown",
      "userId": "02417259790472296449"
     },
     "user_tz": 420
    },
    "id": "rdlsXg7Dhbrd",
    "outputId": "c25ee2f9-cf41-4dfa-d7dd-8c30ffd47966"
   },
   "outputs": [
    {
     "name": "stdout",
     "output_type": "stream",
     "text": [
      "\n",
      "Results of Welch two-sample t-test...\n",
      "t‑statistic: 25.499\n",
      "p‑value: 2.61e-120\n",
      "95% CI for mean difference: [-187626.4, -160822.9]\n"
     ]
    }
   ],
   "source": [
    "# Save each sample in a variable\n",
    "not_verified = data.loc[data[\"verified_status\"] == \"not verified\", \"video_view_count\"]\n",
    "verified     = data.loc[data[\"verified_status\"] == \"verified\",      \"video_view_count\"]\n",
    "\n",
    "# Welch two‑sample t‑test\n",
    "res = stats.ttest_ind(a=not_verified, b=verified, equal_var=False)\n",
    "\n",
    "# 95 % confidence interval for the difference in means (verified − not_verified)\n",
    "mean_diff = verified.mean() - not_verified.mean()\n",
    "se        = np.sqrt(verified.var(ddof=1) / verified.size +\n",
    "                    not_verified.var(ddof=1) / not_verified.size)\n",
    "alpha  = 0.05\n",
    "t_crit = stats.t.ppf(1 - alpha / 2, df=res.df)\n",
    "ci_low = mean_diff - t_crit * se\n",
    "ci_high = mean_diff + t_crit * se\n",
    "\n",
    "# Print results\n",
    "print(\"\\nResults of Welch two-sample t-test...\")\n",
    "print(f\"t‑statistic: {res.statistic:.3f}\")\n",
    "print(f\"p‑value: {res.pvalue:.3g}\")\n",
    "print(f\"95% CI for mean difference: [{ci_low:.1f}, {ci_high:.1f}]\")"
   ]
  },
  {
   "cell_type": "markdown",
   "id": "6c1230cf",
   "metadata": {},
   "source": [
    "### **Key takeaway for stakeholders ---**\n",
    "\n",
    "> **Verified accounts attract significantly more views per video** (p < 0.05).  \n",
    "> This suggests that the verification badge confers credibility or boosts discoverability.\n",
    "> Any modelling pipeline that predicts engagement should therefore include **`verified_status`** as a feature or stratify on it.\n",
    "\n"
   ]
  }
 ],
 "metadata": {
  "colab": {
   "provenance": []
  },
  "kernelspec": {
   "display_name": "ds_portfolio",
   "language": "python",
   "name": "python3"
  },
  "language_info": {
   "codemirror_mode": {
    "name": "ipython",
    "version": 3
   },
   "file_extension": ".py",
   "mimetype": "text/x-python",
   "name": "python",
   "nbconvert_exporter": "python",
   "pygments_lexer": "ipython3",
   "version": "3.11.11"
  }
 },
 "nbformat": 4,
 "nbformat_minor": 1
}
