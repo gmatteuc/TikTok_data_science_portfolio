{
 "cells": [
  {
   "cell_type": "markdown",
   "id": "50ebd6a1",
   "metadata": {},
   "source": [
    "# **TikTok Project – Predictive Modelling (part 4)**"
   ]
  },
  {
   "cell_type": "markdown",
   "id": "503727e2",
   "metadata": {},
   "source": [
    "In *Part 1* acquainted us with the raw data, *part 2* explored distributions visually, and *part 3* confirmed key patterns via hypothesis testing. Here, in *part 4*, as requested by the project manger of our team we will proceed to the next step: the construction of our first predictive model (based on linear regression) to predict the verified_status vsriable we focused on previously from the other main varibles in the datset.\n",
    "\n",
    "**The purpose** of this project is:\n",
    "1. engineer additional features and balance the classes,\n",
    "2. build a logistic‐regression classifier to predict whether a channel is verified, and\n",
    "3. interpret the model’s performance and coefficients.\n",
    "\n",
    "**The goal** deliver a simple interpretable model that not only discriminates verified from non‑verified channels with high accuracy but also highlights the relative influence of each predictor."
   ]
  },
  {
   "cell_type": "markdown",
   "id": "57543152",
   "metadata": {},
   "source": [
    "Let's start from importing the necessary libraries and load the dataset ..."
   ]
  },
  {
   "cell_type": "code",
   "execution_count": 1,
   "id": "b3252966",
   "metadata": {},
   "outputs": [
    {
     "data": {
      "text/html": [
       "<div>\n",
       "<style scoped>\n",
       "    .dataframe tbody tr th:only-of-type {\n",
       "        vertical-align: middle;\n",
       "    }\n",
       "\n",
       "    .dataframe tbody tr th {\n",
       "        vertical-align: top;\n",
       "    }\n",
       "\n",
       "    .dataframe thead th {\n",
       "        text-align: right;\n",
       "    }\n",
       "</style>\n",
       "<table border=\"1\" class=\"dataframe\">\n",
       "  <thead>\n",
       "    <tr style=\"text-align: right;\">\n",
       "      <th></th>\n",
       "      <th>#</th>\n",
       "      <th>claim_status</th>\n",
       "      <th>video_id</th>\n",
       "      <th>video_duration_sec</th>\n",
       "      <th>video_transcription_text</th>\n",
       "      <th>verified_status</th>\n",
       "      <th>author_ban_status</th>\n",
       "      <th>video_view_count</th>\n",
       "      <th>video_like_count</th>\n",
       "      <th>video_share_count</th>\n",
       "      <th>video_download_count</th>\n",
       "      <th>video_comment_count</th>\n",
       "    </tr>\n",
       "  </thead>\n",
       "  <tbody>\n",
       "    <tr>\n",
       "      <th>0</th>\n",
       "      <td>1</td>\n",
       "      <td>claim</td>\n",
       "      <td>7017666017</td>\n",
       "      <td>59</td>\n",
       "      <td>someone shared with me that drone deliveries a...</td>\n",
       "      <td>not verified</td>\n",
       "      <td>under review</td>\n",
       "      <td>343296.0</td>\n",
       "      <td>19425.0</td>\n",
       "      <td>241.0</td>\n",
       "      <td>1.0</td>\n",
       "      <td>0.0</td>\n",
       "    </tr>\n",
       "    <tr>\n",
       "      <th>1</th>\n",
       "      <td>2</td>\n",
       "      <td>claim</td>\n",
       "      <td>4014381136</td>\n",
       "      <td>32</td>\n",
       "      <td>someone shared with me that there are more mic...</td>\n",
       "      <td>not verified</td>\n",
       "      <td>active</td>\n",
       "      <td>140877.0</td>\n",
       "      <td>77355.0</td>\n",
       "      <td>19034.0</td>\n",
       "      <td>1161.0</td>\n",
       "      <td>684.0</td>\n",
       "    </tr>\n",
       "    <tr>\n",
       "      <th>2</th>\n",
       "      <td>3</td>\n",
       "      <td>claim</td>\n",
       "      <td>9859838091</td>\n",
       "      <td>31</td>\n",
       "      <td>someone shared with me that american industria...</td>\n",
       "      <td>not verified</td>\n",
       "      <td>active</td>\n",
       "      <td>902185.0</td>\n",
       "      <td>97690.0</td>\n",
       "      <td>2858.0</td>\n",
       "      <td>833.0</td>\n",
       "      <td>329.0</td>\n",
       "    </tr>\n",
       "    <tr>\n",
       "      <th>3</th>\n",
       "      <td>4</td>\n",
       "      <td>claim</td>\n",
       "      <td>1866847991</td>\n",
       "      <td>25</td>\n",
       "      <td>someone shared with me that the metro of st. p...</td>\n",
       "      <td>not verified</td>\n",
       "      <td>active</td>\n",
       "      <td>437506.0</td>\n",
       "      <td>239954.0</td>\n",
       "      <td>34812.0</td>\n",
       "      <td>1234.0</td>\n",
       "      <td>584.0</td>\n",
       "    </tr>\n",
       "    <tr>\n",
       "      <th>4</th>\n",
       "      <td>5</td>\n",
       "      <td>claim</td>\n",
       "      <td>7105231098</td>\n",
       "      <td>19</td>\n",
       "      <td>someone shared with me that the number of busi...</td>\n",
       "      <td>not verified</td>\n",
       "      <td>active</td>\n",
       "      <td>56167.0</td>\n",
       "      <td>34987.0</td>\n",
       "      <td>4110.0</td>\n",
       "      <td>547.0</td>\n",
       "      <td>152.0</td>\n",
       "    </tr>\n",
       "  </tbody>\n",
       "</table>\n",
       "</div>"
      ],
      "text/plain": [
       "   # claim_status    video_id  video_duration_sec  \\\n",
       "0  1        claim  7017666017                  59   \n",
       "1  2        claim  4014381136                  32   \n",
       "2  3        claim  9859838091                  31   \n",
       "3  4        claim  1866847991                  25   \n",
       "4  5        claim  7105231098                  19   \n",
       "\n",
       "                            video_transcription_text verified_status  \\\n",
       "0  someone shared with me that drone deliveries a...    not verified   \n",
       "1  someone shared with me that there are more mic...    not verified   \n",
       "2  someone shared with me that american industria...    not verified   \n",
       "3  someone shared with me that the metro of st. p...    not verified   \n",
       "4  someone shared with me that the number of busi...    not verified   \n",
       "\n",
       "  author_ban_status  video_view_count  video_like_count  video_share_count  \\\n",
       "0      under review          343296.0           19425.0              241.0   \n",
       "1            active          140877.0           77355.0            19034.0   \n",
       "2            active          902185.0           97690.0             2858.0   \n",
       "3            active          437506.0          239954.0            34812.0   \n",
       "4            active           56167.0           34987.0             4110.0   \n",
       "\n",
       "   video_download_count  video_comment_count  \n",
       "0                   1.0                  0.0  \n",
       "1                1161.0                684.0  \n",
       "2                 833.0                329.0  \n",
       "3                1234.0                584.0  \n",
       "4                 547.0                152.0  "
      ]
     },
     "execution_count": 1,
     "metadata": {},
     "output_type": "execute_result"
    }
   ],
   "source": [
    "# Data wrangling imports\n",
    "import pandas as pd\n",
    "import numpy as np\n",
    "\n",
    "# Visualisation imports\n",
    "import matplotlib.pyplot as plt\n",
    "from matplotlib.colors import LinearSegmentedColormap, TwoSlopeNorm\n",
    "import seaborn as sns\n",
    "\n",
    "# Modelling imports\n",
    "from sklearn.model_selection import train_test_split\n",
    "from sklearn.preprocessing import OneHotEncoder\n",
    "from sklearn.linear_model import LogisticRegression\n",
    "from sklearn.metrics import classification_report, confusion_matrix, ConfusionMatrixDisplay\n",
    "from sklearn.utils import resample\n",
    "\n",
    "# Read the dataset and display the first few rows\n",
    "data = pd.read_csv(\"tiktok_dataset.csv\")\n",
    "data.head()"
   ]
  },
  {
   "cell_type": "markdown",
   "id": "7f1f6e23",
   "metadata": {},
   "source": [
    "Clean missing values:"
   ]
  },
  {
   "cell_type": "code",
   "execution_count": 2,
   "id": "c750866d",
   "metadata": {},
   "outputs": [
    {
     "name": "stdout",
     "output_type": "stream",
     "text": [
      "Missing values in each column (initially):\n",
      "#                             0\n",
      "claim_status                298\n",
      "video_id                      0\n",
      "video_duration_sec            0\n",
      "video_transcription_text    298\n",
      "verified_status               0\n",
      "author_ban_status             0\n",
      "video_view_count            298\n",
      "video_like_count            298\n",
      "video_share_count           298\n",
      "video_download_count        298\n",
      "video_comment_count         298\n",
      "dtype: int64\n",
      "Missing values in each column (after cleaning):\n",
      "#                           0\n",
      "claim_status                0\n",
      "video_id                    0\n",
      "video_duration_sec          0\n",
      "video_transcription_text    0\n",
      "verified_status             0\n",
      "author_ban_status           0\n",
      "video_view_count            0\n",
      "video_like_count            0\n",
      "video_share_count           0\n",
      "video_download_count        0\n",
      "video_comment_count         0\n",
      "dtype: int64\n",
      "Number of duplicate rows in the dataset:\n"
     ]
    },
    {
     "data": {
      "text/plain": [
       "np.int64(0)"
      ]
     },
     "execution_count": 2,
     "metadata": {},
     "output_type": "execute_result"
    }
   ],
   "source": [
    "# Check for missing values\n",
    "missing_values = data.isna().sum()\n",
    "# Print number of missing values in each column\n",
    "print(\"Missing values in each column (initially):\")\n",
    "print(missing_values)\n",
    "# Drop rows with missing values\n",
    "data = data.dropna(axis=0)\n",
    "missing_values_after = data.isna().sum()\n",
    "# Print number of missing values in each column\n",
    "print(\"Missing values in each column (after cleaning):\")\n",
    "print(missing_values_after)\n",
    "# Check for duplicates\n",
    "print(\"Number of duplicate rows in the dataset:\")\n",
    "data.duplicated().sum()"
   ]
  },
  {
   "cell_type": "markdown",
   "id": "1d1fc14a",
   "metadata": {},
   "source": [
    "Our exploratory analysis revealed extreme outliers in video_like_count and video_comment_count. To prevent these values from disproportionately skewing our logistic regression, we’ll cap them at sensible thresholds."
   ]
  },
  {
   "cell_type": "code",
   "execution_count": 3,
   "id": "cc560569",
   "metadata": {},
   "outputs": [
    {
     "name": "stdout",
     "output_type": "stream",
     "text": [
      "Number of outliers in video_like_count:\n",
      "1726\n",
      "Number of outliers in video_comment_count:\n",
      "2789\n"
     ]
    }
   ],
   "source": [
    "# Check for and handle outliers (video_view_count)\n",
    "percentile25 = data[\"video_like_count\"].quantile(0.25)\n",
    "percentile75 = data[\"video_like_count\"].quantile(0.75)\n",
    "iqr = percentile75 - percentile25\n",
    "upper_limit = percentile75 + 1.5 * iqr\n",
    "# Print nuber of outliers\n",
    "isabove = data[\"video_like_count\"] > upper_limit\n",
    "print(\"Number of outliers in video_like_count:\")\n",
    "print(isabove.sum())\n",
    "# Cap the outliers to the upper limit\n",
    "data.loc[data[\"video_like_count\"] > upper_limit, \"video_like_count\"] = upper_limit\n",
    "\n",
    "# Check for and handle outliers (video_duration_sec)\n",
    "percentile25 = data[\"video_comment_count\"].quantile(0.25)\n",
    "percentile75 = data[\"video_comment_count\"].quantile(0.75)\n",
    "iqr = percentile75 - percentile25\n",
    "upper_limit = percentile75 + 1.5 * iqr\n",
    "# Print nuber of outliers\n",
    "isabove = data[\"video_comment_count\"] > upper_limit\n",
    "print(\"Number of outliers in video_comment_count:\")\n",
    "print(isabove.sum())\n",
    "# Cap the outliers to the upper limit\n",
    "data.loc[data[\"video_comment_count\"] > upper_limit, \"video_comment_count\"] = upper_limit"
   ]
  },
  {
   "cell_type": "markdown",
   "id": "a9889742",
   "metadata": {},
   "source": [
    "Let's now check for class balance:"
   ]
  },
  {
   "cell_type": "code",
   "execution_count": 4,
   "id": "cb592bdd",
   "metadata": {},
   "outputs": [
    {
     "data": {
      "text/plain": [
       "verified_status\n",
       "not verified    17884\n",
       "verified         1200\n",
       "Name: count, dtype: int64"
      ]
     },
     "execution_count": 4,
     "metadata": {},
     "output_type": "execute_result"
    }
   ],
   "source": [
    "# Check class balance\n",
    "data[\"verified_status\"].value_counts()"
   ]
  },
  {
   "cell_type": "markdown",
   "id": "50c438e6",
   "metadata": {},
   "source": [
    "...the response variable for this model is **`verified_status`**. Because verified channels are comparatively rare, we up‑sample the minority class to avoid bias. "
   ]
  },
  {
   "cell_type": "code",
   "execution_count": 5,
   "id": "62955e52",
   "metadata": {},
   "outputs": [
    {
     "data": {
      "text/plain": [
       "verified_status\n",
       "verified        17884\n",
       "not verified    17884\n",
       "Name: count, dtype: int64"
      ]
     },
     "execution_count": 5,
     "metadata": {},
     "output_type": "execute_result"
    }
   ],
   "source": [
    "# Separate majority and minority classes\n",
    "major = data.loc[data['verified_status'] == 'not verified']\n",
    "minor = data.loc[data['verified_status'] == 'verified']\n",
    "\n",
    "# Upsample minority to the size of majority\n",
    "minor_upsampled = resample(minor,\n",
    "                           replace=True,\n",
    "                           n_samples=len(major),\n",
    "                           random_state=0)\n",
    "\n",
    "# Combine and shuffle\n",
    "data_balanced = pd.concat([major, minor_upsampled]).sample(frac=1, random_state=0).reset_index(drop=True)\n",
    "\n",
    "# Sanity‑check new class counts\n",
    "data_balanced['verified_status'].value_counts()"
   ]
  },
  {
   "cell_type": "markdown",
   "id": "0d0afab5",
   "metadata": {},
   "source": [
    "Now let's engineer a simple extra feature that could be useful for our predictive modeling work. Text length often proxies for information density and may interact with user engagement. Let's also inspect its distribution per verification status."
   ]
  },
  {
   "cell_type": "code",
   "execution_count": 6,
   "id": "451eca3f",
   "metadata": {},
   "outputs": [
    {
     "data": {
      "image/png": "[encoded data removed]",
      "text/plain": [
       "<Figure size 600x400 with 1 Axes>"
      ]
     },
     "metadata": {},
     "output_type": "display_data"
    }
   ],
   "source": [
    "# Engineer simple feature: character length of the video transcription\n",
    "data_balanced['text_length'] = data_balanced['video_transcription_text'].str.len()\n",
    "\n",
    "# Define colours to use\n",
    "tiktok_palette = {\n",
    "    'verified': '#69C9D0',   # tiktok cyan\n",
    "    'not verified': '#EE1D52'    # tiktok magenta\n",
    "}\n",
    "\n",
    "# Visualise the distribution of transcription length by verification status\n",
    "plt.figure(figsize=(6, 4))\n",
    "sns.histplot(\n",
    "    data=data_balanced,\n",
    "    x='text_length',\n",
    "    hue='verified_status',\n",
    "    bins=30,\n",
    "    element='step',\n",
    "    stat='count',\n",
    "    multiple='stack',\n",
    "    palette=tiktok_palette,\n",
    "    alpha=0.6\n",
    ")\n",
    "plt.title('Distribution of transcription length by verification status')\n",
    "plt.xlabel('Characters in transcription')\n",
    "plt.ylabel('Number of videos')\n",
    "plt.show()"
   ]
  },
  {
   "cell_type": "markdown",
   "id": "41a09c76",
   "metadata": {},
   "source": [
    "Finally, a quick correlation heatmap of the numeric variables (to get an overall sense of the dependencies between them):"
   ]
  },
  {
   "cell_type": "code",
   "execution_count": 7,
   "id": "c92a8639",
   "metadata": {},
   "outputs": [
    {
     "data": {
      "image/png": "[encoded data removed]",
      "text/plain": [
       "<Figure size 700x500 with 2 Axes>"
      ]
     },
     "metadata": {},
     "output_type": "display_data"
    }
   ],
   "source": [
    "# Select features and target variable\n",
    "num_cols = ['video_duration_sec', 'video_view_count', 'video_like_count',\n",
    "            'video_share_count', 'video_download_count', 'video_comment_count',\n",
    "              'text_length']\n",
    "\n",
    "# Define tiktok three‑node colormap: cyan → black → magenta\n",
    "colors = ['#69C9D0', 'black', '#EE1D52']\n",
    "tiktok_cmap = LinearSegmentedColormap.from_list('tiktok_three', colors)\n",
    "# Diverging normalisation centred at zero (since corr values range –1 to 1)\n",
    "norm = TwoSlopeNorm(vmin=-1, vcenter=0, vmax=1)\n",
    "\n",
    "# Visualise the correlation matrix of numeric features\n",
    "plt.figure(figsize=(7, 5))\n",
    "sns.heatmap(\n",
    "    data_balanced[num_cols].corr(),\n",
    "    annot=True,\n",
    "    cmap=tiktok_cmap,\n",
    "    norm=norm\n",
    ")\n",
    "plt.title('Correlation matrix')\n",
    "plt.show()"
   ]
  },
  {
   "cell_type": "markdown",
   "id": "f7330701",
   "metadata": {},
   "source": [
    "Let's get ready to build the model now. Let's select a parsimonious feature set that still captures engagement and content characteristics:\n",
    "\n",
    "* continuous: duration, view, share, download, comments\n",
    "* categorical: claim status, author ban status\n",
    "\n",
    "The target remains binary **`verified_status`**."
   ]
  },
  {
   "cell_type": "code",
   "execution_count": 8,
   "id": "d96243cf",
   "metadata": {},
   "outputs": [
    {
     "name": "stdout",
     "output_type": "stream",
     "text": [
      "Training set shape: (26826, 7)\n",
      "Test set shape: (8942, 7)\n",
      "Training set target shape: (26826,)\n",
      "Test set target shape: (8942,)\n"
     ]
    }
   ],
   "source": [
    "# Select target variable and features\n",
    "y = data_balanced['verified_status']\n",
    "X = data_balanced[[\"video_duration_sec\", \"claim_status\", \"author_ban_status\",\n",
    "                    \"video_view_count\", \"video_share_count\", \"video_download_count\",\n",
    "                      \"video_comment_count\"]]\n",
    "\n",
    "# Perform train/test split\n",
    "X_train, X_test, y_train, y_test = train_test_split(\n",
    "    X, y, test_size=0.25, random_state=0)\n",
    "\n",
    "# Print the shapes of the training and test sets\n",
    "print(\"Training set shape:\", X_train.shape)\n",
    "print(\"Test set shape:\", X_test.shape)\n",
    "print(\"Training set target shape:\", y_train.shape)\n",
    "print(\"Test set target shape:\", y_test.shape)"
   ]
  },
  {
   "cell_type": "markdown",
   "id": "ede1a83d",
   "metadata": {},
   "source": [
    "Let's check features datatype (starting from training set):"
   ]
  },
  {
   "cell_type": "code",
   "execution_count": 9,
   "id": "718e352b",
   "metadata": {},
   "outputs": [
    {
     "data": {
      "text/plain": [
       "video_duration_sec        int64\n",
       "claim_status             object\n",
       "author_ban_status        object\n",
       "video_view_count        float64\n",
       "video_share_count       float64\n",
       "video_download_count    float64\n",
       "video_comment_count     float64\n",
       "dtype: object"
      ]
     },
     "execution_count": 9,
     "metadata": {},
     "output_type": "execute_result"
    }
   ],
   "source": [
    "# Check data types\n",
    "X_train.dtypes"
   ]
  },
  {
   "cell_type": "code",
   "execution_count": 10,
   "id": "efe5a03e",
   "metadata": {},
   "outputs": [
    {
     "name": "stdout",
     "output_type": "stream",
     "text": [
      "Unique values in claim_status:\n",
      "['claim' 'opinion']\n",
      "Unique values in author_ban_status:\n",
      "['active' 'under review' 'banned']\n"
     ]
    }
   ],
   "source": [
    "# Get unique values in `claim_status`\n",
    "print(\"Unique values in claim_status:\")\n",
    "print(X_train[\"claim_status\"].unique())\n",
    "# Get unique values in `author_ban_status`\n",
    "print(\"Unique values in author_ban_status:\")\n",
    "print(X_train[\"author_ban_status\"].unique())"
   ]
  },
  {
   "cell_type": "markdown",
   "id": "e5c3b512",
   "metadata": {},
   "source": [
    "Since `claim_status` and `author_ban_status` are nominal, before using them in a logistic regression model we have to apply a one‑hot encoding function (dropping the first level to avoid multicollinearity). Let's start from the training set."
   ]
  },
  {
   "cell_type": "code",
   "execution_count": 11,
   "id": "8fa64ab3",
   "metadata": {},
   "outputs": [
    {
     "data": {
      "text/html": [
       "<div>\n",
       "<style scoped>\n",
       "    .dataframe tbody tr th:only-of-type {\n",
       "        vertical-align: middle;\n",
       "    }\n",
       "\n",
       "    .dataframe tbody tr th {\n",
       "        vertical-align: top;\n",
       "    }\n",
       "\n",
       "    .dataframe thead th {\n",
       "        text-align: right;\n",
       "    }\n",
       "</style>\n",
       "<table border=\"1\" class=\"dataframe\">\n",
       "  <thead>\n",
       "    <tr style=\"text-align: right;\">\n",
       "      <th></th>\n",
       "      <th>claim_status</th>\n",
       "      <th>author_ban_status</th>\n",
       "    </tr>\n",
       "  </thead>\n",
       "  <tbody>\n",
       "    <tr>\n",
       "      <th>33058</th>\n",
       "      <td>claim</td>\n",
       "      <td>active</td>\n",
       "    </tr>\n",
       "    <tr>\n",
       "      <th>20491</th>\n",
       "      <td>claim</td>\n",
       "      <td>active</td>\n",
       "    </tr>\n",
       "    <tr>\n",
       "      <th>25583</th>\n",
       "      <td>claim</td>\n",
       "      <td>active</td>\n",
       "    </tr>\n",
       "    <tr>\n",
       "      <th>18474</th>\n",
       "      <td>claim</td>\n",
       "      <td>active</td>\n",
       "    </tr>\n",
       "    <tr>\n",
       "      <th>27312</th>\n",
       "      <td>opinion</td>\n",
       "      <td>active</td>\n",
       "    </tr>\n",
       "  </tbody>\n",
       "</table>\n",
       "</div>"
      ],
      "text/plain": [
       "      claim_status author_ban_status\n",
       "33058        claim            active\n",
       "20491        claim            active\n",
       "25583        claim            active\n",
       "18474        claim            active\n",
       "27312      opinion            active"
      ]
     },
     "execution_count": 11,
     "metadata": {},
     "output_type": "execute_result"
    }
   ],
   "source": [
    "# Select the training features that needs to be encoded\n",
    "X_train_to_encode = X_train[[\"claim_status\", \"author_ban_status\"]]\n",
    "# Display first few rows\n",
    "X_train_to_encode.head()"
   ]
  },
  {
   "cell_type": "code",
   "execution_count": 12,
   "id": "684efc64",
   "metadata": {},
   "outputs": [
    {
     "data": {
      "text/html": [
       "<div>\n",
       "<style scoped>\n",
       "    .dataframe tbody tr th:only-of-type {\n",
       "        vertical-align: middle;\n",
       "    }\n",
       "\n",
       "    .dataframe tbody tr th {\n",
       "        vertical-align: top;\n",
       "    }\n",
       "\n",
       "    .dataframe thead th {\n",
       "        text-align: right;\n",
       "    }\n",
       "</style>\n",
       "<table border=\"1\" class=\"dataframe\">\n",
       "  <thead>\n",
       "    <tr style=\"text-align: right;\">\n",
       "      <th></th>\n",
       "      <th>claim_status_opinion</th>\n",
       "      <th>author_ban_status_banned</th>\n",
       "      <th>author_ban_status_under review</th>\n",
       "    </tr>\n",
       "  </thead>\n",
       "  <tbody>\n",
       "    <tr>\n",
       "      <th>0</th>\n",
       "      <td>0.0</td>\n",
       "      <td>0.0</td>\n",
       "      <td>0.0</td>\n",
       "    </tr>\n",
       "    <tr>\n",
       "      <th>1</th>\n",
       "      <td>0.0</td>\n",
       "      <td>0.0</td>\n",
       "      <td>0.0</td>\n",
       "    </tr>\n",
       "    <tr>\n",
       "      <th>2</th>\n",
       "      <td>0.0</td>\n",
       "      <td>0.0</td>\n",
       "      <td>0.0</td>\n",
       "    </tr>\n",
       "    <tr>\n",
       "      <th>3</th>\n",
       "      <td>0.0</td>\n",
       "      <td>0.0</td>\n",
       "      <td>0.0</td>\n",
       "    </tr>\n",
       "    <tr>\n",
       "      <th>4</th>\n",
       "      <td>1.0</td>\n",
       "      <td>0.0</td>\n",
       "      <td>0.0</td>\n",
       "    </tr>\n",
       "  </tbody>\n",
       "</table>\n",
       "</div>"
      ],
      "text/plain": [
       "   claim_status_opinion  author_ban_status_banned  \\\n",
       "0                   0.0                       0.0   \n",
       "1                   0.0                       0.0   \n",
       "2                   0.0                       0.0   \n",
       "3                   0.0                       0.0   \n",
       "4                   1.0                       0.0   \n",
       "\n",
       "   author_ban_status_under review  \n",
       "0                             0.0  \n",
       "1                             0.0  \n",
       "2                             0.0  \n",
       "3                             0.0  \n",
       "4                             0.0  "
      ]
     },
     "execution_count": 12,
     "metadata": {},
     "output_type": "execute_result"
    }
   ],
   "source": [
    "# Set up an encoder for one-hot encoding the categorical features\n",
    "X_encoder = OneHotEncoder(drop='first', sparse_output=False)\n",
    "# Fit and transform the training features using the encoder\n",
    "X_train_encoded = X_encoder.fit_transform(X_train_to_encode)\n",
    "# Get feature names from encoder\n",
    "X_encoder.get_feature_names_out()\n",
    "# Place encoded training features (which is currently an array) into a dataframe\n",
    "X_train_encoded_df = pd.DataFrame(data=X_train_encoded, columns=X_encoder.get_feature_names_out())\n",
    "# Display first few rows\n",
    "X_train_encoded_df.head()"
   ]
  },
  {
   "cell_type": "code",
   "execution_count": 13,
   "id": "fa73a668",
   "metadata": {},
   "outputs": [
    {
     "data": {
      "text/html": [
       "<div>\n",
       "<style scoped>\n",
       "    .dataframe tbody tr th:only-of-type {\n",
       "        vertical-align: middle;\n",
       "    }\n",
       "\n",
       "    .dataframe tbody tr th {\n",
       "        vertical-align: top;\n",
       "    }\n",
       "\n",
       "    .dataframe thead th {\n",
       "        text-align: right;\n",
       "    }\n",
       "</style>\n",
       "<table border=\"1\" class=\"dataframe\">\n",
       "  <thead>\n",
       "    <tr style=\"text-align: right;\">\n",
       "      <th></th>\n",
       "      <th>video_duration_sec</th>\n",
       "      <th>video_view_count</th>\n",
       "      <th>video_share_count</th>\n",
       "      <th>video_download_count</th>\n",
       "      <th>video_comment_count</th>\n",
       "      <th>claim_status_opinion</th>\n",
       "      <th>author_ban_status_banned</th>\n",
       "      <th>author_ban_status_under review</th>\n",
       "    </tr>\n",
       "  </thead>\n",
       "  <tbody>\n",
       "    <tr>\n",
       "      <th>0</th>\n",
       "      <td>28</td>\n",
       "      <td>448458.0</td>\n",
       "      <td>60690.0</td>\n",
       "      <td>1811.0</td>\n",
       "      <td>501.0</td>\n",
       "      <td>0.0</td>\n",
       "      <td>0.0</td>\n",
       "      <td>0.0</td>\n",
       "    </tr>\n",
       "    <tr>\n",
       "      <th>1</th>\n",
       "      <td>21</td>\n",
       "      <td>776792.0</td>\n",
       "      <td>62539.0</td>\n",
       "      <td>1507.0</td>\n",
       "      <td>728.5</td>\n",
       "      <td>0.0</td>\n",
       "      <td>0.0</td>\n",
       "      <td>0.0</td>\n",
       "    </tr>\n",
       "    <tr>\n",
       "      <th>2</th>\n",
       "      <td>12</td>\n",
       "      <td>986641.0</td>\n",
       "      <td>35045.0</td>\n",
       "      <td>2336.0</td>\n",
       "      <td>460.0</td>\n",
       "      <td>0.0</td>\n",
       "      <td>0.0</td>\n",
       "      <td>0.0</td>\n",
       "    </tr>\n",
       "    <tr>\n",
       "      <th>3</th>\n",
       "      <td>57</td>\n",
       "      <td>551385.0</td>\n",
       "      <td>6744.0</td>\n",
       "      <td>982.0</td>\n",
       "      <td>144.0</td>\n",
       "      <td>0.0</td>\n",
       "      <td>0.0</td>\n",
       "      <td>0.0</td>\n",
       "    </tr>\n",
       "    <tr>\n",
       "      <th>4</th>\n",
       "      <td>33</td>\n",
       "      <td>8553.0</td>\n",
       "      <td>330.0</td>\n",
       "      <td>26.0</td>\n",
       "      <td>3.0</td>\n",
       "      <td>1.0</td>\n",
       "      <td>0.0</td>\n",
       "      <td>0.0</td>\n",
       "    </tr>\n",
       "  </tbody>\n",
       "</table>\n",
       "</div>"
      ],
      "text/plain": [
       "   video_duration_sec  video_view_count  video_share_count  \\\n",
       "0                  28          448458.0            60690.0   \n",
       "1                  21          776792.0            62539.0   \n",
       "2                  12          986641.0            35045.0   \n",
       "3                  57          551385.0             6744.0   \n",
       "4                  33            8553.0              330.0   \n",
       "\n",
       "   video_download_count  video_comment_count  claim_status_opinion  \\\n",
       "0                1811.0                501.0                   0.0   \n",
       "1                1507.0                728.5                   0.0   \n",
       "2                2336.0                460.0                   0.0   \n",
       "3                 982.0                144.0                   0.0   \n",
       "4                  26.0                  3.0                   1.0   \n",
       "\n",
       "   author_ban_status_banned  author_ban_status_under review  \n",
       "0                       0.0                             0.0  \n",
       "1                       0.0                             0.0  \n",
       "2                       0.0                             0.0  \n",
       "3                       0.0                             0.0  \n",
       "4                       0.0                             0.0  "
      ]
     },
     "execution_count": 13,
     "metadata": {},
     "output_type": "execute_result"
    }
   ],
   "source": [
    "# Concatenate numeric and encoded categorical test features\n",
    "X_train_final = pd.concat([X_train.drop(columns=[\"claim_status\", \"author_ban_status\"]).reset_index(drop=True), X_train_encoded_df], axis=1)\n",
    "# Display first few rows\n",
    "X_train_final.head()"
   ]
  },
  {
   "cell_type": "markdown",
   "id": "9ee3ece2",
   "metadata": {},
   "source": [
    "Let's do the same for the from the test set."
   ]
  },
  {
   "cell_type": "code",
   "execution_count": 14,
   "id": "7fd31656",
   "metadata": {},
   "outputs": [
    {
     "data": {
      "text/html": [
       "<div>\n",
       "<style scoped>\n",
       "    .dataframe tbody tr th:only-of-type {\n",
       "        vertical-align: middle;\n",
       "    }\n",
       "\n",
       "    .dataframe tbody tr th {\n",
       "        vertical-align: top;\n",
       "    }\n",
       "\n",
       "    .dataframe thead th {\n",
       "        text-align: right;\n",
       "    }\n",
       "</style>\n",
       "<table border=\"1\" class=\"dataframe\">\n",
       "  <thead>\n",
       "    <tr style=\"text-align: right;\">\n",
       "      <th></th>\n",
       "      <th>video_duration_sec</th>\n",
       "      <th>video_view_count</th>\n",
       "      <th>video_share_count</th>\n",
       "      <th>video_download_count</th>\n",
       "      <th>video_comment_count</th>\n",
       "      <th>claim_status_opinion</th>\n",
       "      <th>author_ban_status_banned</th>\n",
       "      <th>author_ban_status_under review</th>\n",
       "    </tr>\n",
       "  </thead>\n",
       "  <tbody>\n",
       "    <tr>\n",
       "      <th>0</th>\n",
       "      <td>60</td>\n",
       "      <td>398688.0</td>\n",
       "      <td>47206.0</td>\n",
       "      <td>1481.0</td>\n",
       "      <td>728.5</td>\n",
       "      <td>0.0</td>\n",
       "      <td>0.0</td>\n",
       "      <td>0.0</td>\n",
       "    </tr>\n",
       "    <tr>\n",
       "      <th>1</th>\n",
       "      <td>27</td>\n",
       "      <td>3060.0</td>\n",
       "      <td>204.0</td>\n",
       "      <td>11.0</td>\n",
       "      <td>2.0</td>\n",
       "      <td>1.0</td>\n",
       "      <td>0.0</td>\n",
       "      <td>0.0</td>\n",
       "    </tr>\n",
       "    <tr>\n",
       "      <th>2</th>\n",
       "      <td>31</td>\n",
       "      <td>5316.0</td>\n",
       "      <td>52.0</td>\n",
       "      <td>25.0</td>\n",
       "      <td>4.0</td>\n",
       "      <td>1.0</td>\n",
       "      <td>0.0</td>\n",
       "      <td>0.0</td>\n",
       "    </tr>\n",
       "    <tr>\n",
       "      <th>3</th>\n",
       "      <td>34</td>\n",
       "      <td>362662.0</td>\n",
       "      <td>37785.0</td>\n",
       "      <td>5888.0</td>\n",
       "      <td>728.5</td>\n",
       "      <td>0.0</td>\n",
       "      <td>0.0</td>\n",
       "      <td>0.0</td>\n",
       "    </tr>\n",
       "    <tr>\n",
       "      <th>4</th>\n",
       "      <td>12</td>\n",
       "      <td>9183.0</td>\n",
       "      <td>6.0</td>\n",
       "      <td>1.0</td>\n",
       "      <td>0.0</td>\n",
       "      <td>1.0</td>\n",
       "      <td>0.0</td>\n",
       "      <td>0.0</td>\n",
       "    </tr>\n",
       "  </tbody>\n",
       "</table>\n",
       "</div>"
      ],
      "text/plain": [
       "   video_duration_sec  video_view_count  video_share_count  \\\n",
       "0                  60          398688.0            47206.0   \n",
       "1                  27            3060.0              204.0   \n",
       "2                  31            5316.0               52.0   \n",
       "3                  34          362662.0            37785.0   \n",
       "4                  12            9183.0                6.0   \n",
       "\n",
       "   video_download_count  video_comment_count  claim_status_opinion  \\\n",
       "0                1481.0                728.5                   0.0   \n",
       "1                  11.0                  2.0                   1.0   \n",
       "2                  25.0                  4.0                   1.0   \n",
       "3                5888.0                728.5                   0.0   \n",
       "4                   1.0                  0.0                   1.0   \n",
       "\n",
       "   author_ban_status_banned  author_ban_status_under review  \n",
       "0                       0.0                             0.0  \n",
       "1                       0.0                             0.0  \n",
       "2                       0.0                             0.0  \n",
       "3                       0.0                             0.0  \n",
       "4                       0.0                             0.0  "
      ]
     },
     "execution_count": 14,
     "metadata": {},
     "output_type": "execute_result"
    }
   ],
   "source": [
    "# Select the test features that needs to be encoded\n",
    "X_test_to_encode = X_test[[\"claim_status\", \"author_ban_status\"]]\n",
    "# Transform the test features using the already‑fitted encoder\n",
    "X_test_encoded = X_encoder.transform(X_test_to_encode)\n",
    "# Build a DataFrame with the encoded test features\n",
    "X_test_encoded_df = pd.DataFrame(data=X_test_encoded, columns=X_encoder.get_feature_names_out())\n",
    "# Concatenate numeric and encoded categorical test features\n",
    "X_test_final = pd.concat([X_test.drop(columns=[\"claim_status\", \"author_ban_status\"]).reset_index(drop=True),X_test_encoded_df.reset_index(drop=True)],axis=1)\n",
    "# Display first few rows\n",
    "X_test_final.head()"
   ]
  },
  {
   "cell_type": "code",
   "execution_count": 15,
   "id": "4a3e0750",
   "metadata": {},
   "outputs": [
    {
     "name": "stdout",
     "output_type": "stream",
     "text": [
      "Training set shape: (26826, 8)\n",
      "Test set shape: (8942, 8)\n",
      "Training set target shape: (26826,)\n",
      "Test set target shape: (8942,)\n"
     ]
    }
   ],
   "source": [
    "# Print the shapes of the training and test sets\n",
    "print(\"Training set shape:\", X_train_final.shape)\n",
    "print(\"Test set shape:\", X_test_final.shape)\n",
    "print(\"Training set target shape:\", y_train.shape)\n",
    "print(\"Test set target shape:\", y_test.shape)"
   ]
  },
  {
   "cell_type": "code",
   "execution_count": 16,
   "id": "da69a0c8",
   "metadata": {},
   "outputs": [
    {
     "data": {
      "text/plain": [
       "video_duration_sec                  int64\n",
       "video_view_count                  float64\n",
       "video_share_count                 float64\n",
       "video_download_count              float64\n",
       "video_comment_count               float64\n",
       "claim_status_opinion              float64\n",
       "author_ban_status_banned          float64\n",
       "author_ban_status_under review    float64\n",
       "dtype: object"
      ]
     },
     "execution_count": 16,
     "metadata": {},
     "output_type": "execute_result"
    }
   ],
   "source": [
    "# Check data types\n",
    "X_train_final.dtypes"
   ]
  },
  {
   "cell_type": "code",
   "execution_count": 17,
   "id": "e5dd7ec4",
   "metadata": {},
   "outputs": [
    {
     "name": "stdout",
     "output_type": "stream",
     "text": [
      "Encoded target variable shape (training): (26826,)\n",
      "[0. 0. 0. ... 1. 0. 0.]\n",
      "Encoded target variable shape (test): (8942,)\n",
      "[0. 0. 1. ... 1. 1. 0.]\n"
     ]
    }
   ],
   "source": [
    "# Encode the target variable (`verified_status`) using one-hot encoding: training set\n",
    "y_encoder = OneHotEncoder(drop='first', sparse_output=False)\n",
    "y_train_final = y_encoder.fit_transform(y_train.values.reshape(-1, 1)).ravel()\n",
    "print(\"Encoded target variable shape (training):\", y_train_final.shape)\n",
    "print(y_train_final)\n",
    "# Encode the target variable (`verified_status`) using one-hot encoding: training set\n",
    "y_test_final = y_encoder.transform(y_test.values.reshape(-1, 1)).ravel()\n",
    "print(\"Encoded target variable shape (test):\", y_test_final.shape)\n",
    "print(y_test_final)"
   ]
  },
  {
   "cell_type": "markdown",
   "id": "15fa1c42",
   "metadata": {},
   "source": [
    "Now that everything is organized and encoded properly we are ready. Let's finally train the model and evaluate its performance ..."
   ]
  },
  {
   "cell_type": "code",
   "execution_count": 18,
   "id": "0dd4f43b",
   "metadata": {},
   "outputs": [
    {
     "name": "stdout",
     "output_type": "stream",
     "text": [
      "              precision    recall  f1-score   support\n",
      "\n",
      "not verified       0.74      0.52      0.61      4450\n",
      "    verified       0.63      0.82      0.72      4492\n",
      "\n",
      "    accuracy                           0.67      8942\n",
      "   macro avg       0.69      0.67      0.66      8942\n",
      "weighted avg       0.69      0.67      0.67      8942\n",
      "\n"
     ]
    }
   ],
   "source": [
    "# Train a logistic regression model\n",
    "log_reg = LogisticRegression(max_iter=1000, random_state=0)\n",
    "log_reg.fit(X_train_final, y_train_final)\n",
    "# Make predictions on the test set\n",
    "y_pred = log_reg.predict(X_test_final)\n",
    "# Print classification report\n",
    "print(classification_report(\n",
    "    y_test_final, \n",
    "    y_pred, \n",
    "    target_names=['not verified', 'verified']\n",
    "))"
   ]
  },
  {
   "cell_type": "code",
   "execution_count": 19,
   "id": "2d33fe2e",
   "metadata": {},
   "outputs": [
    {
     "data": {
      "image/png": "[encoded data removed]",
      "text/plain": [
       "<Figure size 640x480 with 2 Axes>"
      ]
     },
     "metadata": {},
     "output_type": "display_data"
    }
   ],
   "source": [
    "# Define a 3‑node colormap: low→black, mid→blue, high→red\n",
    "custom_cmap = LinearSegmentedColormap.from_list(\n",
    "    'black_blue_red',\n",
    "    ['black','#69C9D0', '#EE1D52']\n",
    ")\n",
    "\n",
    "# Get the confusion matrix\n",
    "cm = confusion_matrix(y_test_final, y_pred)\n",
    "\n",
    "# Plot the confusion matrix with custom colormap\n",
    "disp = ConfusionMatrixDisplay(\n",
    "    confusion_matrix=cm,\n",
    "    display_labels=['not verified', 'verified']\n",
    ")\n",
    "disp.plot(cmap=custom_cmap)\n",
    "plt.title('Confusion matrix – logistic regression')\n",
    "plt.show()"
   ]
  },
  {
   "cell_type": "markdown",
   "id": "7ff3f545",
   "metadata": {},
   "source": [
    "Let's explore the best fit model coefficients now:"
   ]
  },
  {
   "cell_type": "code",
   "execution_count": 20,
   "id": "f5e09df4",
   "metadata": {},
   "outputs": [
    {
     "data": {
      "text/html": [
       "<div>\n",
       "<style scoped>\n",
       "    .dataframe tbody tr th:only-of-type {\n",
       "        vertical-align: middle;\n",
       "    }\n",
       "\n",
       "    .dataframe tbody tr th {\n",
       "        vertical-align: top;\n",
       "    }\n",
       "\n",
       "    .dataframe thead th {\n",
       "        text-align: right;\n",
       "    }\n",
       "</style>\n",
       "<table border=\"1\" class=\"dataframe\">\n",
       "  <thead>\n",
       "    <tr style=\"text-align: right;\">\n",
       "      <th></th>\n",
       "      <th>Feature Name</th>\n",
       "      <th>Model Coefficient</th>\n",
       "    </tr>\n",
       "  </thead>\n",
       "  <tbody>\n",
       "    <tr>\n",
       "      <th>0</th>\n",
       "      <td>video_duration_sec</td>\n",
       "      <td>-3.160936e-03</td>\n",
       "    </tr>\n",
       "    <tr>\n",
       "      <th>1</th>\n",
       "      <td>video_view_count</td>\n",
       "      <td>-2.193988e-07</td>\n",
       "    </tr>\n",
       "    <tr>\n",
       "      <th>2</th>\n",
       "      <td>video_share_count</td>\n",
       "      <td>4.711228e-06</td>\n",
       "    </tr>\n",
       "    <tr>\n",
       "      <th>3</th>\n",
       "      <td>video_download_count</td>\n",
       "      <td>-7.758700e-05</td>\n",
       "    </tr>\n",
       "    <tr>\n",
       "      <th>4</th>\n",
       "      <td>video_comment_count</td>\n",
       "      <td>3.498029e-04</td>\n",
       "    </tr>\n",
       "    <tr>\n",
       "      <th>5</th>\n",
       "      <td>claim_status_opinion</td>\n",
       "      <td>1.639333e+00</td>\n",
       "    </tr>\n",
       "    <tr>\n",
       "      <th>6</th>\n",
       "      <td>author_ban_status_banned</td>\n",
       "      <td>-4.254828e-01</td>\n",
       "    </tr>\n",
       "    <tr>\n",
       "      <th>7</th>\n",
       "      <td>author_ban_status_under review</td>\n",
       "      <td>-1.002707e-01</td>\n",
       "    </tr>\n",
       "  </tbody>\n",
       "</table>\n",
       "</div>"
      ],
      "text/plain": [
       "                     Feature Name  Model Coefficient\n",
       "0              video_duration_sec      -3.160936e-03\n",
       "1                video_view_count      -2.193988e-07\n",
       "2               video_share_count       4.711228e-06\n",
       "3            video_download_count      -7.758700e-05\n",
       "4             video_comment_count       3.498029e-04\n",
       "5            claim_status_opinion       1.639333e+00\n",
       "6        author_ban_status_banned      -4.254828e-01\n",
       "7  author_ban_status_under review      -1.002707e-01"
      ]
     },
     "execution_count": 20,
     "metadata": {},
     "output_type": "execute_result"
    }
   ],
   "source": [
    "# Display the model coefficients\n",
    "pd.DataFrame(data={\"Feature Name\":log_reg.feature_names_in_, \"Model Coefficient\":log_reg.coef_[0]})"
   ]
  },
  {
   "cell_type": "markdown",
   "id": "225ac984",
   "metadata": {},
   "source": [
    "For interpretability, we examine the **odds ratios** (exponential of the coefficients).  \n",
    "Positive values (>1) increase the likelihood of verification, negative (<1) decrease it."
   ]
  },
  {
   "cell_type": "code",
   "execution_count": 21,
   "id": "ef2aca67",
   "metadata": {},
   "outputs": [
    {
     "name": "stdout",
     "output_type": "stream",
     "text": [
      "claim_status_opinion              5.151733\n",
      "video_comment_count               1.000350\n",
      "video_share_count                 1.000005\n",
      "video_view_count                  1.000000\n",
      "video_download_count              0.999922\n",
      "video_duration_sec                0.996844\n",
      "author_ban_status_under review    0.904593\n",
      "author_ban_status_banned          0.653454\n",
      "dtype: float64\n"
     ]
    },
    {
     "data": {
      "image/png": "[encoded data removed]",
      "text/plain": [
       "<Figure size 1000x600 with 1 Axes>"
      ]
     },
     "metadata": {},
     "output_type": "display_data"
    }
   ],
   "source": [
    "# Get odds ratios and sort them\n",
    "coef_series = pd.Series(\n",
    "    np.exp(log_reg.coef_[0]),\n",
    "    index=list(X_train.drop(columns=['claim_status', 'author_ban_status']).columns) + ['claim_status_opinion', 'author_ban_status_banned',\n",
    "       'author_ban_status_under review']\n",
    ").sort_values(ascending=False)\n",
    "\n",
    "# Print odds ratios\n",
    "print(coef_series)\n",
    "\n",
    "# Prepare a dataframe of odds ratios\n",
    "coef_df = coef_series.reset_index()\n",
    "coef_df.columns = ['feature', 'odds_ratio']\n",
    "\n",
    "# Plot a bar chart of odds ratios\n",
    "plt.figure(figsize=(10, 6))\n",
    "sns.barplot(\n",
    "    data=coef_df,\n",
    "    x='feature',\n",
    "    y='odds_ratio',\n",
    "    color='#69C9D0',\n",
    "    edgecolor='black'\n",
    ")\n",
    "# Add a reference line at OR = 1 (no effect)\n",
    "plt.axhline(1, linestyle='--', color='red', label='OR = 1')\n",
    "plt.xticks(rotation=45, ha='right')\n",
    "plt.xlabel('feature')\n",
    "plt.ylabel('odds ratio')\n",
    "plt.title('Feature Odds Ratios from Logistic Regression')\n",
    "plt.legend()\n",
    "plt.tight_layout()\n",
    "plt.show()\n"
   ]
  },
  {
   "cell_type": "markdown",
   "id": "7982950c",
   "metadata": {},
   "source": [
    "### **Key takeaways for the TikTok data team lead** ---\n",
    "\n",
    "- The dataset has a few strongly correlated variables, which might lead to multicollinearity issues when fitting a logistic regression model. We decided to drop video_like_count from the model building.\n",
    "\n",
    "- The odds ratio for claim_status_opinion (~4.4) shows that “opinion” channels are over four times more likely to be verified, while video‑level metrics hover around 1 (minimal effect) and author bans substantially reduce verification odds (under review ≈ 0.78, banned ≈ 0.60).\n",
    "\n",
    "- Model performance: for the verified class the classifier achieves a precision of ~ 0.63 and a recall of ~ 0.82, meaning it correctly identifies 82 % of verified channels, though roughly one in three positive predictions is a false alarm."
   ]
  }
 ],
 "metadata": {
  "kernelspec": {
   "display_name": "ds_portfolio",
   "language": "python",
   "name": "python3"
  },
  "language_info": {
   "codemirror_mode": {
    "name": "ipython",
    "version": 3
   },
   "file_extension": ".py",
   "mimetype": "text/x-python",
   "name": "python",
   "nbconvert_exporter": "python",
   "pygments_lexer": "ipython3",
   "version": "3.11.11"
  }
 },
 "nbformat": 4,
 "nbformat_minor": 5
}
